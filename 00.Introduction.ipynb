{
 "cells": [
  {
   "cell_type": "markdown",
   "metadata": {},
   "source": [
    "# 1. SageMaker Studio 주요 기능 소개\n",
    "- Jupyter Lab 기반의 통합 개발환경\n",
    "- EFS 스토리지를 기반으로 Gateway Kernel을 도커로 구동\n",
    "- 노트북의 인스턴스 유형 및 커널을 자유롭게 변경 가능\n",
    "- Sagemaker Project, Pipeline 등 Resources를 GUI 형태로 관리\n",
    "- Notebook Share를 통해 다른 사용자와 공유 가능\n",
    "- IAM, SSO 방식의 사용자 관리 지원 \n",
    "- Github 연계기능 제공\n",
    "- Jumpstart 등 다양한 예제 제공\n"
   ]
  },
  {
   "cell_type": "markdown",
   "metadata": {},
   "source": [
    "# 2. SageMaker Project 주요 기능\n",
    "- CI/CD 파이프라인\n",
    "- Repository\n",
    "- Pipeline\n",
    "- Model Group\n",
    "- Endpoint\n",
    "- Project Template - Code Pipeline, Event Bridge 등 필요한 리소스들을 정의\n",
    "\n",
    "## 2.1 Proejct Template 둘러보기\n",
    "- codebuild-buildspec.yml\n",
    "- setup.py\n",
    "- pipeline.py"
   ]
  },
  {
   "cell_type": "markdown",
   "metadata": {},
   "source": [
    "# 3. Sagemaker Pipeline \n",
    "데이터 전처리 > 학습 > 튜닝 > 평가 > 모델등록 전체 과정을 DAG 형태의 파이프라인 구성\n",
    "\n",
    "### 파이프라인 구성요소\n",
    "- Pipeline parameters - SageMaker 파이프라인의 매개 변수 정의\n",
    "- Processing step - 데이터 전처리 및 모델 평가 등 Process job으로 수행 할 수 있는 단계\n",
    "- Training step - 전처리된 훈련 데이터셋에서 모델을 훈련\n",
    "- Create Model step - 훈련에 사용되는 모델 아티팩트에서 모델을 생성\n",
    "- Transform step - 생성된 모델을 기반으로 일괄 변환을 수행하는 변환 단계\n",
    "- Register Model step - 모델 훈련에 사용되는 estimator와 모델 아티팩트에서 모델 패키지를 생성 및 등록\n",
    "- Conditional step - 이전 단계의 출력을 기반으로 조건을 측정하고 다른 단계를 조건부로 실행\n",
    "- Pipeline definition - 정의된 매개 변수 및 단계를 사용하여 DAG에서 파이프라인을 정의하고 생성\n",
    "\n",
    "### 파이프라인 확인\n",
    "- pipeline.py\n",
    "\n",
    "### 파이프라인 실행 및 확인\n",
    "- GUI 또는 코드를 통해 실행\n",
    "- Experiment, Trial을 통해 확인"
   ]
  },
  {
   "cell_type": "code",
   "execution_count": null,
   "metadata": {},
   "outputs": [],
   "source": []
  }
 ],
 "metadata": {
  "instance_type": "ml.t3.medium",
  "kernelspec": {
   "display_name": "Python 3 (Data Science)",
   "language": "python",
   "name": "python3__SAGEMAKER_INTERNAL__arn:aws:sagemaker:ap-northeast-2:806072073708:image/datascience-1.0"
  },
  "language_info": {
   "codemirror_mode": {
    "name": "ipython",
    "version": 3
   },
   "file_extension": ".py",
   "mimetype": "text/x-python",
   "name": "python",
   "nbconvert_exporter": "python",
   "pygments_lexer": "ipython3",
   "version": "3.7.10"
  }
 },
 "nbformat": 4,
 "nbformat_minor": 4
}
